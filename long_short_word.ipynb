{
 "cells": [
  {
   "cell_type": "markdown",
   "metadata": {},
   "source": [
    " Write a method or function in the major programming language of your choice that returns the longest word in a sentence and its length. For example, “The cow jumped over the moon.” should return “jumped” and 6.\n"
   ]
  },
  {
   "cell_type": "code",
   "execution_count": 141,
   "metadata": {},
   "outputs": [
    {
     "name": "stdout",
     "output_type": "stream",
     "text": [
      "('jumped', 6)\n"
     ]
    }
   ],
   "source": [
    "def longest_word(sentence):\n",
    "    # Remove punctuation that is likely to effect word length... \n",
    "    sentence = sentence.replace(\".\", \"\").replace(\"'\",\"\").replace(\"?\", \"\").replace(\"!\",\"\")\n",
    "    return_word = \"\"\n",
    "    # Go through words in sentence, and store longest in return_word\n",
    "    for word in sentence.split():\n",
    "        if len(word) > len(return_word):\n",
    "            return_word = word\n",
    "    return return_word, len(return_word)\n",
    "        \n",
    "print(longest_word(\"The cow jumped over the moon.\"))"
   ]
  },
  {
   "cell_type": "markdown",
   "metadata": {},
   "source": [
    "Write unit tests, reworking code as needed"
   ]
  },
  {
   "cell_type": "markdown",
   "metadata": {},
   "source": [
    "Unit tests at bottom"
   ]
  },
  {
   "cell_type": "markdown",
   "metadata": {},
   "source": [
    "Add a method that returns the shortest word and length with unit tests"
   ]
  },
  {
   "cell_type": "code",
   "execution_count": 142,
   "metadata": {},
   "outputs": [],
   "source": [
    "# With no easy base case (len = inf), we need to store inf as a len, and update return_word_lenth as we find shorter words\n",
    "\n",
    "def shortest_word(sentence):\n",
    "    # Remove punctuation that is likely to effect word length... \n",
    "    sentence = sentence.replace(\".\", \"\").replace(\"'\",\"\").replace(\"?\", \"\").replace(\"!\",\"\")\n",
    "    return_word = \"\"\n",
    "    return_word_len = float(\"inf\")\n",
    "    \n",
    "    # Go through words in sentence, and store shortest in return_word\n",
    "    for word in sentence.split():\n",
    "        if len(word) < return_word_len:\n",
    "            return_word, return_word_len = word, len(word)\n",
    "    return return_word.lower(), len(return_word)\n"
   ]
  },
  {
   "cell_type": "code",
   "execution_count": null,
   "metadata": {},
   "outputs": [],
   "source": [
    "Unit tests below"
   ]
  },
  {
   "cell_type": "code",
   "execution_count": 168,
   "metadata": {},
   "outputs": [],
   "source": [
    "import unittest\n",
    "\n",
    "class Test(unittest.TestCase):\n",
    "    \n",
    "    def test(self):\n",
    "        self.assertEqual(shortest_word(\"The cow jumped over the moon.\"), ('the', 3))\n",
    "        self.assertEqual(shortest_word(\"He does not enquire into the abstract right and wrong of any case, but subjects it to the acid test of proletarian interests.\"), ('he', 2))\n",
    "        self.assertEqual(shortest_word(\"Let's test a long sentence where the last word has a double ellipsis......\"), ('a', 1))\n",
    "        \n",
    "        self.assertEqual(longest_word(\"The cow jumped over the moon.\"), ('jumped', 6))\n",
    "        self.assertEqual(longest_word(\"He does not enquire into the abstract right and wrong of any case, but subjects it to the acid test of proletarian interests.\"), ('proletarian', 11))\n",
    "        self.assertEqual(longest_word(\"Let's test a long sentence where the last word has a double ellipsis......\"), ('sentence', 8))"
   ]
  },
  {
   "cell_type": "code",
   "execution_count": 169,
   "metadata": {},
   "outputs": [
    {
     "name": "stderr",
     "output_type": "stream",
     "text": [
      "......\n",
      "----------------------------------------------------------------------\n",
      "Ran 6 tests in 0.006s\n",
      "\n",
      "OK\n"
     ]
    }
   ],
   "source": [
    "if __name__ == '__main__':\n",
    "    unittest.main(argv=['first-arg-is-ignored'], exit=False)"
   ]
  }
 ],
 "metadata": {
  "kernelspec": {
   "display_name": "Python 3",
   "language": "python",
   "name": "python3"
  },
  "language_info": {
   "codemirror_mode": {
    "name": "ipython",
    "version": 3
   },
   "file_extension": ".py",
   "mimetype": "text/x-python",
   "name": "python",
   "nbconvert_exporter": "python",
   "pygments_lexer": "ipython3",
   "version": "3.7.6"
  }
 },
 "nbformat": 4,
 "nbformat_minor": 4
}
